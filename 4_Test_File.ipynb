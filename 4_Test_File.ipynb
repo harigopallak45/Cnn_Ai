{
 "cells": [
  {
   "cell_type": "markdown",
   "id": "bc46d822",
   "metadata": {},
   "source": [
    ">Import Libraries"
   ]
  },
  {
   "cell_type": "code",
   "execution_count": 1,
   "id": "952dcb3d",
   "metadata": {},
   "outputs": [],
   "source": [
    "import warnings\n",
    "warnings.filterwarnings(\"ignore\")\n",
    "\n",
    "import numpy as np\n",
    "import cv2\n",
    "import shutil\n",
    "import os\n",
    "from tqdm import tqdm\n",
    "from glob import glob\n",
    "from tensorflow.keras.models import load_model\n",
    "from collections import Counter"
   ]
  },
  {
   "cell_type": "markdown",
   "id": "af61d5a3",
   "metadata": {},
   "source": [
    ">Loading Model"
   ]
  },
  {
   "cell_type": "code",
   "execution_count": 2,
   "id": "cd522575-0344-4dae-baf1-8b1d4e6643da",
   "metadata": {},
   "outputs": [],
   "source": [
    "model = load_model(\"models/DenseNet201_model.h5\", compile=False)"
   ]
  },
  {
   "cell_type": "code",
   "execution_count": 3,
   "id": "a5e4fe1e",
   "metadata": {},
   "outputs": [],
   "source": [
    "class_labels = ['Arson', 'Burglary', 'Explosion', 'Fighting', 'Normal']"
   ]
  },
  {
   "cell_type": "markdown",
   "id": "8c55e962",
   "metadata": {},
   "source": [
    "### UserInput"
   ]
  },
  {
   "cell_type": "code",
   "execution_count": 31,
   "id": "4da8132c",
   "metadata": {},
   "outputs": [],
   "source": [
    "user_input = \"user_input/Normal_Videos_129_x264_trimmed.mp4\""
   ]
  },
  {
   "cell_type": "code",
   "execution_count": 32,
   "id": "22487106",
   "metadata": {},
   "outputs": [],
   "source": [
    "shutil.rmtree(\"UserInput_Frames\")\n",
    "os.makedirs(\"UserInput_Frames\", exist_ok=True)"
   ]
  },
  {
   "cell_type": "markdown",
   "id": "1c66299f",
   "metadata": {},
   "source": [
    "Extracting Frames from User Input"
   ]
  },
  {
   "cell_type": "code",
   "execution_count": 33,
   "id": "397c0939",
   "metadata": {},
   "outputs": [
    {
     "name": "stdout",
     "output_type": "stream",
     "text": [
      "CPU times: total: 46.9 ms\n",
      "Wall time: 288 ms\n"
     ]
    }
   ],
   "source": [
    "%%time\n",
    "\n",
    "frame_count = 0\n",
    "\n",
    "cv_video = cv2.VideoCapture(user_input)\n",
    "\n",
    "while True:\n",
    "    status, frame = cv_video.read()\n",
    "\n",
    "    if status:\n",
    "        output_filepath = os.path.join(\"UserInput_Frames\", f\"{frame_count}_frame.png\")\n",
    "        cv2.imwrite(output_filepath, frame)\n",
    "        frame_count += 1\n",
    "    else:\n",
    "        break\n",
    "cv_video.release()"
   ]
  },
  {
   "cell_type": "markdown",
   "id": "3a82b049",
   "metadata": {},
   "source": [
    ">Loading Extracted Frames"
   ]
  },
  {
   "cell_type": "code",
   "execution_count": 34,
   "id": "cd6e9e9c",
   "metadata": {},
   "outputs": [
    {
     "data": {
      "text/plain": [
       "['UserInput_Frames\\\\0_frame.png',\n",
       " 'UserInput_Frames\\\\10_frame.png',\n",
       " 'UserInput_Frames\\\\11_frame.png',\n",
       " 'UserInput_Frames\\\\12_frame.png',\n",
       " 'UserInput_Frames\\\\13_frame.png',\n",
       " 'UserInput_Frames\\\\14_frame.png',\n",
       " 'UserInput_Frames\\\\15_frame.png',\n",
       " 'UserInput_Frames\\\\16_frame.png',\n",
       " 'UserInput_Frames\\\\17_frame.png',\n",
       " 'UserInput_Frames\\\\18_frame.png',\n",
       " 'UserInput_Frames\\\\19_frame.png',\n",
       " 'UserInput_Frames\\\\1_frame.png',\n",
       " 'UserInput_Frames\\\\20_frame.png',\n",
       " 'UserInput_Frames\\\\21_frame.png',\n",
       " 'UserInput_Frames\\\\22_frame.png',\n",
       " 'UserInput_Frames\\\\23_frame.png',\n",
       " 'UserInput_Frames\\\\24_frame.png',\n",
       " 'UserInput_Frames\\\\25_frame.png',\n",
       " 'UserInput_Frames\\\\26_frame.png',\n",
       " 'UserInput_Frames\\\\27_frame.png',\n",
       " 'UserInput_Frames\\\\28_frame.png',\n",
       " 'UserInput_Frames\\\\29_frame.png',\n",
       " 'UserInput_Frames\\\\2_frame.png',\n",
       " 'UserInput_Frames\\\\30_frame.png',\n",
       " 'UserInput_Frames\\\\31_frame.png',\n",
       " 'UserInput_Frames\\\\32_frame.png',\n",
       " 'UserInput_Frames\\\\33_frame.png',\n",
       " 'UserInput_Frames\\\\34_frame.png',\n",
       " 'UserInput_Frames\\\\35_frame.png',\n",
       " 'UserInput_Frames\\\\36_frame.png',\n",
       " 'UserInput_Frames\\\\37_frame.png',\n",
       " 'UserInput_Frames\\\\38_frame.png',\n",
       " 'UserInput_Frames\\\\39_frame.png',\n",
       " 'UserInput_Frames\\\\3_frame.png',\n",
       " 'UserInput_Frames\\\\40_frame.png',\n",
       " 'UserInput_Frames\\\\41_frame.png',\n",
       " 'UserInput_Frames\\\\42_frame.png',\n",
       " 'UserInput_Frames\\\\43_frame.png',\n",
       " 'UserInput_Frames\\\\44_frame.png',\n",
       " 'UserInput_Frames\\\\45_frame.png',\n",
       " 'UserInput_Frames\\\\46_frame.png',\n",
       " 'UserInput_Frames\\\\47_frame.png',\n",
       " 'UserInput_Frames\\\\48_frame.png',\n",
       " 'UserInput_Frames\\\\49_frame.png',\n",
       " 'UserInput_Frames\\\\4_frame.png',\n",
       " 'UserInput_Frames\\\\50_frame.png',\n",
       " 'UserInput_Frames\\\\51_frame.png',\n",
       " 'UserInput_Frames\\\\52_frame.png',\n",
       " 'UserInput_Frames\\\\53_frame.png',\n",
       " 'UserInput_Frames\\\\54_frame.png',\n",
       " 'UserInput_Frames\\\\55_frame.png',\n",
       " 'UserInput_Frames\\\\56_frame.png',\n",
       " 'UserInput_Frames\\\\57_frame.png',\n",
       " 'UserInput_Frames\\\\58_frame.png',\n",
       " 'UserInput_Frames\\\\59_frame.png',\n",
       " 'UserInput_Frames\\\\5_frame.png',\n",
       " 'UserInput_Frames\\\\60_frame.png',\n",
       " 'UserInput_Frames\\\\61_frame.png',\n",
       " 'UserInput_Frames\\\\62_frame.png',\n",
       " 'UserInput_Frames\\\\63_frame.png',\n",
       " 'UserInput_Frames\\\\64_frame.png',\n",
       " 'UserInput_Frames\\\\65_frame.png',\n",
       " 'UserInput_Frames\\\\66_frame.png',\n",
       " 'UserInput_Frames\\\\67_frame.png',\n",
       " 'UserInput_Frames\\\\68_frame.png',\n",
       " 'UserInput_Frames\\\\69_frame.png',\n",
       " 'UserInput_Frames\\\\6_frame.png',\n",
       " 'UserInput_Frames\\\\70_frame.png',\n",
       " 'UserInput_Frames\\\\71_frame.png',\n",
       " 'UserInput_Frames\\\\72_frame.png',\n",
       " 'UserInput_Frames\\\\73_frame.png',\n",
       " 'UserInput_Frames\\\\74_frame.png',\n",
       " 'UserInput_Frames\\\\75_frame.png',\n",
       " 'UserInput_Frames\\\\76_frame.png',\n",
       " 'UserInput_Frames\\\\77_frame.png',\n",
       " 'UserInput_Frames\\\\78_frame.png',\n",
       " 'UserInput_Frames\\\\79_frame.png',\n",
       " 'UserInput_Frames\\\\7_frame.png',\n",
       " 'UserInput_Frames\\\\80_frame.png',\n",
       " 'UserInput_Frames\\\\81_frame.png',\n",
       " 'UserInput_Frames\\\\82_frame.png',\n",
       " 'UserInput_Frames\\\\83_frame.png',\n",
       " 'UserInput_Frames\\\\84_frame.png',\n",
       " 'UserInput_Frames\\\\85_frame.png',\n",
       " 'UserInput_Frames\\\\86_frame.png',\n",
       " 'UserInput_Frames\\\\87_frame.png',\n",
       " 'UserInput_Frames\\\\88_frame.png',\n",
       " 'UserInput_Frames\\\\89_frame.png',\n",
       " 'UserInput_Frames\\\\8_frame.png',\n",
       " 'UserInput_Frames\\\\9_frame.png']"
      ]
     },
     "execution_count": 34,
     "metadata": {},
     "output_type": "execute_result"
    }
   ],
   "source": [
    "input_frames_names = glob(\"UserInput_Frames/*.png\")\n",
    "input_frames_names"
   ]
  },
  {
   "cell_type": "code",
   "execution_count": 35,
   "id": "a92bee0b",
   "metadata": {},
   "outputs": [
    {
     "name": "stderr",
     "output_type": "stream",
     "text": [
      "100%|█████████████████████████████████████████████████████████████████████████████████| 90/90 [00:00<00:00, 549.16it/s]\n"
     ]
    }
   ],
   "source": [
    "data = []\n",
    "\n",
    "for filename in tqdm(input_frames_names):\n",
    "    image = cv2.imread(filename)\n",
    "    image = cv2.cvtColor(image, cv2.COLOR_BGR2RGB)\n",
    "    image = cv2.resize(image, (128, 128))\n",
    "    image = np.array(image)\n",
    "    image = image/255.0\n",
    "    data.append(image)"
   ]
  },
  {
   "cell_type": "markdown",
   "id": "26b2dd8c",
   "metadata": {},
   "source": [
    ">Model Prediction"
   ]
  },
  {
   "cell_type": "code",
   "execution_count": 36,
   "id": "dc0bc4c7",
   "metadata": {},
   "outputs": [
    {
     "name": "stdout",
     "output_type": "stream",
     "text": [
      "3/3 [==============================] - 3s 1s/step\n"
     ]
    }
   ],
   "source": [
    "prediction = model.predict(np.array(data), batch_size=32, verbose=1)"
   ]
  },
  {
   "cell_type": "code",
   "execution_count": 37,
   "id": "1a326dc1",
   "metadata": {},
   "outputs": [
    {
     "name": "stdout",
     "output_type": "stream",
     "text": [
      "class index: 4\n",
      "class label: Normal\n"
     ]
    }
   ],
   "source": [
    "predicted_labels = prediction.argmax(axis=1)\n",
    "predicted_labels = predicted_labels.tolist()\n",
    "predicted_labels = Counter(predicted_labels)\n",
    "max_label = max(predicted_labels, key=predicted_labels.get)\n",
    "class_label = class_labels[max_label]\n",
    "\n",
    "print(f\"class index: {max_label}\")\n",
    "print(f\"class label: {class_label}\")"
   ]
  },
  {
   "cell_type": "markdown",
   "id": "076a3a03",
   "metadata": {},
   "source": [
    "# Thank You "
   ]
  },
  {
   "cell_type": "code",
   "execution_count": null,
   "id": "33701b71-3c6a-4b13-82f0-c76ec65ea766",
   "metadata": {},
   "outputs": [],
   "source": []
  }
 ],
 "metadata": {
  "kernelspec": {
   "display_name": "Python 3 (ipykernel)",
   "language": "python",
   "name": "python3"
  },
  "language_info": {
   "codemirror_mode": {
    "name": "ipython",
    "version": 3
   },
   "file_extension": ".py",
   "mimetype": "text/x-python",
   "name": "python",
   "nbconvert_exporter": "python",
   "pygments_lexer": "ipython3",
   "version": "3.9.7"
  }
 },
 "nbformat": 4,
 "nbformat_minor": 5
}
