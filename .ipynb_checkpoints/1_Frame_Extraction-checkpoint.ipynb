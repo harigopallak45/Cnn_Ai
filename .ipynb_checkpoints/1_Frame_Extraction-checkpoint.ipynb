{
 "cells": [
  {
   "cell_type": "markdown",
   "id": "d480f078",
   "metadata": {
    "id": "d480f078"
   },
   "source": [
    "# Import Libraries"
   ]
  },
  {
   "cell_type": "code",
   "execution_count": 1,
   "id": "1903caba",
   "metadata": {
    "id": "1903caba"
   },
   "outputs": [],
   "source": [
    "import warnings\n",
    "warnings.filterwarnings(\"ignore\")\n",
    "\n",
    "import os\n",
    "import cv2\n",
    "import numpy as np\n",
    "import shutil\n",
    "from tqdm import tqdm"
   ]
  },
  {
   "cell_type": "markdown",
   "id": "7aeccccb",
   "metadata": {
    "id": "7aeccccb"
   },
   "source": [
    "# Folder Preparation"
   ]
  },
  {
   "cell_type": "code",
   "execution_count": null,
   "id": "36050109",
   "metadata": {
    "colab": {
     "base_uri": "https://localhost:8080/"
    },
    "executionInfo": {
     "elapsed": 376,
     "status": "ok",
     "timestamp": 1709552537390,
     "user": {
      "displayName": "Pulavendran S",
      "userId": "09545379829326731753"
     },
     "user_tz": -330
    },
    "id": "36050109",
    "outputId": "1447bad3-34ac-4846-9cea-602caae057ca"
   },
   "outputs": [
    {
     "name": "stdout",
     "output_type": "stream",
     "text": [
      "['Arson', 'Fighting', 'Explosion', 'Burglary', 'Normal']\n"
     ]
    }
   ],
   "source": [
    "base_dir = \"dataset\"\n",
    "\n",
    "class_labels = os.listdir(base_dir)\n",
    "print(class_labels)"
   ]
  },
  {
   "cell_type": "code",
   "execution_count": null,
   "id": "fc179ac8",
   "metadata": {
    "id": "fc179ac8"
   },
   "outputs": [],
   "source": [
    "shutil.rmtree('input', ignore_errors=True)"
   ]
  },
  {
   "cell_type": "code",
   "execution_count": null,
   "id": "2050fd9a",
   "metadata": {
    "id": "2050fd9a"
   },
   "outputs": [],
   "source": [
    "outpath = 'input'\n",
    "for label in class_labels:\n",
    "    new_dir_path = os.path.join(outpath,label)\n",
    "    os.makedirs(new_dir_path,exist_ok=True)"
   ]
  },
  {
   "cell_type": "markdown",
   "id": "75059cbf",
   "metadata": {
    "id": "75059cbf"
   },
   "source": [
    "# Freame Extraction and Saving"
   ]
  },
  {
   "cell_type": "code",
   "execution_count": null,
   "id": "1d629fab",
   "metadata": {
    "colab": {
     "base_uri": "https://localhost:8080/"
    },
    "executionInfo": {
     "elapsed": 712040,
     "status": "ok",
     "timestamp": 1709553304275,
     "user": {
      "displayName": "Pulavendran S",
      "userId": "09545379829326731753"
     },
     "user_tz": -330
    },
    "id": "1d629fab",
    "outputId": "d97f89df-7faa-4e35-8337-f3e3086461a9"
   },
   "outputs": [
    {
     "name": "stdout",
     "output_type": "stream",
     "text": [
      "Video loading and frame extraction process are currently in progress from - dataset/Arson\n"
     ]
    },
    {
     "name": "stderr",
     "output_type": "stream",
     "text": [
      "100%|██████████| 30/30 [03:03<00:00,  6.12s/it]\n"
     ]
    },
    {
     "name": "stdout",
     "output_type": "stream",
     "text": [
      "Video loading and frame extraction process are currently in progress from - dataset/Fighting\n"
     ]
    },
    {
     "name": "stderr",
     "output_type": "stream",
     "text": [
      "100%|██████████| 30/30 [02:33<00:00,  5.11s/it]\n"
     ]
    },
    {
     "name": "stdout",
     "output_type": "stream",
     "text": [
      "Video loading and frame extraction process are currently in progress from - dataset/Explosion\n"
     ]
    },
    {
     "name": "stderr",
     "output_type": "stream",
     "text": [
      "100%|██████████| 30/30 [03:06<00:00,  6.21s/it]\n"
     ]
    },
    {
     "name": "stdout",
     "output_type": "stream",
     "text": [
      "Video loading and frame extraction process are currently in progress from - dataset/Burglary\n"
     ]
    },
    {
     "name": "stderr",
     "output_type": "stream",
     "text": [
      "100%|██████████| 30/30 [02:00<00:00,  4.00s/it]\n"
     ]
    },
    {
     "name": "stdout",
     "output_type": "stream",
     "text": [
      "Video loading and frame extraction process are currently in progress from - dataset/Normal\n"
     ]
    },
    {
     "name": "stderr",
     "output_type": "stream",
     "text": [
      "100%|██████████| 30/30 [01:08<00:00,  2.27s/it]\n"
     ]
    }
   ],
   "source": [
    "for label in class_labels:\n",
    "    count = 0\n",
    "    frame_count = 0\n",
    "    folder_path = os.path.join(base_dir, label)\n",
    "    print(f'Video loading and frame extraction process are currently in progress from - {folder_path}')\n",
    "\n",
    "    for video_file in tqdm(os.listdir(folder_path)):\n",
    "        filepath = os.path.join(folder_path, video_file)\n",
    "        cv_video = cv2.VideoCapture(filepath)\n",
    "\n",
    "        while True:\n",
    "            status, frame = cv_video.read()\n",
    "\n",
    "            if not status:\n",
    "                break\n",
    "\n",
    "            if label != 'Normal':\n",
    "                if (count % 100) == 0:\n",
    "                    output_filepath = os.path.join(outpath, label, f\"{frame_count}_frame.png\")\n",
    "                    cv2.imwrite(output_filepath, frame)\n",
    "                    frame_count += 1\n",
    "\n",
    "            elif label == 'Normal':\n",
    "                if (count % 20) == 0:\n",
    "                    output_filepath = os.path.join(outpath, label, f\"{frame_count}_frame.png\")\n",
    "                    cv2.imwrite(output_filepath, frame)\n",
    "                    frame_count += 1\n",
    "\n",
    "            count += 1\n",
    "\n",
    "        cv_video.release()"
   ]
  },
  {
   "cell_type": "code",
   "execution_count": null,
   "id": "e934b6fc",
   "metadata": {
    "id": "e934b6fc"
   },
   "outputs": [],
   "source": []
  }
 ],
 "metadata": {
  "colab": {
   "provenance": []
  },
  "kernelspec": {
   "display_name": "Python 3 (ipykernel)",
   "language": "python",
   "name": "python3"
  },
  "language_info": {
   "codemirror_mode": {
    "name": "ipython",
    "version": 3
   },
   "file_extension": ".py",
   "mimetype": "text/x-python",
   "name": "python",
   "nbconvert_exporter": "python",
   "pygments_lexer": "ipython3",
   "version": "3.9.7"
  }
 },
 "nbformat": 4,
 "nbformat_minor": 5
}
