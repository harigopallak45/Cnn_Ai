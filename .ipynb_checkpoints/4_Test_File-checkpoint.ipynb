{
 "cells": [
  {
   "cell_type": "markdown",
   "id": "bc46d822",
   "metadata": {},
   "source": [
    ">Import Libraries"
   ]
  },
  {
   "cell_type": "code",
   "execution_count": null,
   "id": "952dcb3d",
   "metadata": {},
   "outputs": [],
   "source": [
    "import warnings\n",
    "warnings.filterwarnings(\"ignore\")\n",
    "\n",
    "import numpy as np\n",
    "import cv2\n",
    "import shutil\n",
    "import os\n",
    "from tqdm import tqdm\n",
    "from glob import glob\n",
    "from tensorflow.keras.models import load_model\n",
    "from collections import Counter"
   ]
  },
  {
   "cell_type": "markdown",
   "id": "af61d5a3",
   "metadata": {},
   "source": [
    ">Loading Model"
   ]
  },
  {
   "cell_type": "code",
   "execution_count": null,
   "id": "cd522575-0344-4dae-baf1-8b1d4e6643da",
   "metadata": {},
   "outputs": [],
   "source": [
    "model = load_model(\"models/DenseNet201_model.h5\", compile=False)"
   ]
  },
  {
   "cell_type": "code",
   "execution_count": null,
   "id": "a5e4fe1e",
   "metadata": {},
   "outputs": [],
   "source": [
    "class_labels = ['Arson', 'Burglary', 'Explosion', 'Fighting', 'Normal']"
   ]
  },
  {
   "cell_type": "markdown",
   "id": "8c55e962",
   "metadata": {},
   "source": [
    "### UserInput"
   ]
  },
  {
   "cell_type": "code",
   "execution_count": null,
   "id": "4da8132c",
   "metadata": {},
   "outputs": [],
   "source": [
    "user_input = \"user_input/Normal_Videos_745_x264_trimmed.mp4\""
   ]
  },
  {
   "cell_type": "code",
   "execution_count": null,
   "id": "22487106",
   "metadata": {},
   "outputs": [],
   "source": [
    "shutil.rmtree(\"UserInput_Frames\")\n",
    "os.makedirs(\"UserInput_Frames\", exist_ok=True)"
   ]
  },
  {
   "cell_type": "markdown",
   "id": "1c66299f",
   "metadata": {},
   "source": [
    ">Extracting Frames from User Input"
   ]
  },
  {
   "cell_type": "code",
   "execution_count": null,
   "id": "397c0939",
   "metadata": {},
   "outputs": [],
   "source": [
    "%%time\n",
    "\n",
    "frame_count = 0\n",
    "\n",
    "cv_video = cv2.VideoCapture(user_input)\n",
    "\n",
    "while True:\n",
    "    status, frame = cv_video.read()\n",
    "\n",
    "    if status:\n",
    "        output_filepath = os.path.join(\"UserInput_Frames\", f\"{frame_count}_frame.png\")\n",
    "        cv2.imwrite(output_filepath, frame)\n",
    "        frame_count += 1\n",
    "    else:\n",
    "        break\n",
    "cv_video.release()"
   ]
  },
  {
   "cell_type": "markdown",
   "id": "3a82b049",
   "metadata": {},
   "source": [
    ">Loading Extracted Frames"
   ]
  },
  {
   "cell_type": "code",
   "execution_count": null,
   "id": "cd6e9e9c",
   "metadata": {},
   "outputs": [],
   "source": [
    "input_frames_names = glob(\"UserInput_Frames/*.png\")\n",
    "input_frames_names"
   ]
  },
  {
   "cell_type": "code",
   "execution_count": null,
   "id": "a92bee0b",
   "metadata": {},
   "outputs": [],
   "source": [
    "data = []\n",
    "\n",
    "for filename in tqdm(input_frames_names):\n",
    "    image = cv2.imread(filename)\n",
    "    image = cv2.cvtColor(image, cv2.COLOR_BGR2RGB)\n",
    "    image = cv2.resize(image, (128, 128))\n",
    "    image = np.array(image)\n",
    "    image = image/255.0\n",
    "    data.append(image)"
   ]
  },
  {
   "cell_type": "markdown",
   "id": "26b2dd8c",
   "metadata": {},
   "source": [
    ">Model Prediction"
   ]
  },
  {
   "cell_type": "code",
   "execution_count": null,
   "id": "dc0bc4c7",
   "metadata": {},
   "outputs": [],
   "source": [
    "prediction = model.predict(np.array(data), batch_size=32, verbose=1)"
   ]
  },
  {
   "cell_type": "code",
   "execution_count": null,
   "id": "1a326dc1",
   "metadata": {},
   "outputs": [],
   "source": [
    "predicted_labels = prediction.argmax(axis=1)\n",
    "predicted_labels = predicted_labels.tolist()\n",
    "predicted_labels = Counter(predicted_labels)\n",
    "max_label = max(predicted_labels, key=predicted_labels.get)\n",
    "class_label = class_labels[max_label]\n",
    "\n",
    "print(f\"class index: {max_label}\")\n",
    "print(f\"class label: {class_label}\")"
   ]
  },
  {
   "cell_type": "markdown",
   "id": "076a3a03",
   "metadata": {},
   "source": [
    "# Thank You"
   ]
  }
 ],
 "metadata": {
  "kernelspec": {
   "display_name": "Python 3 (ipykernel)",
   "language": "python",
   "name": "python3"
  },
  "language_info": {
   "codemirror_mode": {
    "name": "ipython",
    "version": 3
   },
   "file_extension": ".py",
   "mimetype": "text/x-python",
   "name": "python",
   "nbconvert_exporter": "python",
   "pygments_lexer": "ipython3",
   "version": "3.9.7"
  }
 },
 "nbformat": 4,
 "nbformat_minor": 5
}
